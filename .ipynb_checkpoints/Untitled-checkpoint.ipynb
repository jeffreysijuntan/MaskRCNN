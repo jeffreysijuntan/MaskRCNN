{
 "cells": [
  {
   "cell_type": "code",
   "execution_count": null,
   "metadata": {
    "collapsed": false
   },
   "outputs": [],
   "source": [
    "import numpy\n",
    "\n",
    "import keras_rcnn.preprocessing._object_detection\n",
    "import keras_rcnn.datasets.dsb2018\n",
    "import keras_rcnn.models\n",
    "import keras\n",
    "import skimage.io\n",
    "import sklearn.model_selection\n",
    "import matplotlib.pyplot as plt\n",
    "import matplotlib.patches as patches\n",
    "\n",
    "%matplotlib inline"
   ]
  },
  {
   "cell_type": "code",
   "execution_count": null,
   "metadata": {
    "collapsed": false
   },
   "outputs": [],
   "source": [
    "def test_flow_from_dictionary():\n",
    "    classes = {\n",
    "        \"nuclei\": 1        \n",
    "    }\n",
    "\n",
    "    training, _ = keras_rcnn.datasets.dsb2018.load_data()\n",
    "    \n",
    "    generator = keras_rcnn.preprocessing.ObjectDetectionGenerator(horizontal_flip=True, vertical_flip=True)\n",
    "    \n",
    "    generator = generator.flow_from_dictionary(training, classes, target_size=(224, 224))\n",
    "\n",
    "    x, _ = generator.next() \n",
    "\n",
    "    target_bounding_boxes, target_categories, target_images, target_masks, target_metadata = x\n",
    "    plt.imshow(target_images[0])\n",
    "    #print(target_bounding_boxes[0])\n",
    "    \n",
    "    fig, ax = plt.subplots()\n",
    "    ax.imshow(target_images[0])\n",
    "    for y1,x1,y2,x2 in target_bounding_boxes[0]:\n",
    "        bbox = patches.Rectangle((x1,y1), x2-x1, y2-y1)\n",
    "        ax.add_patch(bbox)\n",
    "    ax.grid('off')\n",
    "    plt.show()\n",
    "    \n",
    "    generator = keras_rcnn.preprocessing.ObjectDetectionGenerator(data_format=None)\n",
    "\n",
    "    generator.flow_from_dictionary(training, classes, color_mode=\"grayscale\", target_size=(224, 224))\n",
    "\n",
    "def test_standardize():\n",
    "    training, _ = keras_rcnn.datasets.dsb2018.load_data()\n",
    "\n",
    "    generator = keras_rcnn.preprocessing.ObjectDetectionGenerator(samplewise_center=True)\n",
    "\n",
    "    image = skimage.io.imread(training[0]['image']['pathname'])\n",
    "    \n",
    "    plt.imshow(image)\n",
    "    \n",
    "\n",
    "    image2 = generator.standardize(image)\n",
    "    plt.imshow(image)\n",
    "    plt.show()\n",
    "\n",
    "def test_find_scale(self):        \n",
    "    pass\n",
    "\n",
    "def test_get_batches_of_transformed_samples(self):\n",
    "    pass"
   ]
  },
  {
   "cell_type": "code",
   "execution_count": null,
   "metadata": {
    "collapsed": false,
    "scrolled": false
   },
   "outputs": [],
   "source": [
    "test_flow_from_dictionary()"
   ]
  },
  {
   "cell_type": "code",
   "execution_count": null,
   "metadata": {
    "collapsed": false
   },
   "outputs": [],
   "source": [
    "test_standardize()"
   ]
  },
  {
   "cell_type": "code",
   "execution_count": null,
   "metadata": {
    "collapsed": false,
    "scrolled": false
   },
   "outputs": [],
   "source": [
    "training, test = keras_rcnn.datasets.dsb2018.load_data()\n",
    "training, validation = sklearn.model_selection.train_test_split(training)\n",
    "\n",
    "classes = {\"nuclei\": 1}\n",
    "\n",
    "generator = keras_rcnn.preprocessing.ObjectDetectionGenerator()\n",
    "generator = generator.flow_from_dictionary(training, classes, (224, 224))\n",
    "\n",
    "validation_data = keras_rcnn.preprocessing.ObjectDetectionGenerator()\n",
    "validation_data = validation_data.flow_from_dictionary(validation, classes, (224, 224))\n",
    "\n",
    "#Create an instance of the RPN model:\n",
    "image = keras.layers.Input((224, 224 , 3))\n",
    "model = keras_rcnn.models.RCNN((224,224,3), ['nuclei'])\n",
    "optimizer = keras.optimizers.Adam(0.0001)\n",
    "model.compile(optimizer)\n",
    "\n",
    "checkpointer = keras.callbacks.ModelCheckpoint(filepath='weights.{epoch:02d}-{val_loss:.2f}.hdf5', verbose=0, save_best_only=False)\n",
    "\n",
    "model.fit_generator(\n",
    "                    epochs=10,\n",
    "                    generator=generator,\n",
    "                    steps_per_epoch=500,\n",
    "                    callbacks=[checkpointer],\n",
    "                    validation_data=validation_data,\n",
    "                    validation_steps=100,\n",
    "                    initial_epoch=0\n",
    "                    )\n"
   ]
  },
  {
   "cell_type": "code",
   "execution_count": null,
   "metadata": {
    "collapsed": false,
    "scrolled": false
   },
   "outputs": [],
   "source": [
    "from sklearn.model_selection import KFold\n",
    "\n",
    "epoch_count = 0\n",
    "for i in range(20):\n",
    "    training, testing = keras_rcnn.datasets.dsb2018.load_data()\n",
    "    training = numpy.array(training)\n",
    "    numpy.random.shuffle(training)\n",
    "\n",
    "    classes = {\"nuclei\": 1}\n",
    "\n",
    "    kf = KFold(n_splits=5)\n",
    "\n",
    "    for train_index, val_index in kf.split(training):\n",
    "        print(\"Start training on epoch {}\".format(epoch_count+1))\n",
    "        \n",
    "        train_data, val_data = training[train_index], training[val_index]\n",
    "\n",
    "        train_generator = keras_rcnn.preprocessing.ObjectDetectionGenerator(horizontal_flip=True, vertical_flip=True)\n",
    "        train_generator = train_generator.flow_from_dictionary(train_data, classes, target_size=(224, 224))\n",
    "\n",
    "        val_generator = keras_rcnn.preprocessing.ObjectDetectionGenerator()\n",
    "        val_generator = val_generator.flow_from_dictionary(val_data, classes, (224, 224))\n",
    "        \n",
    "        checkpointer = keras.callbacks.ModelCheckpoint(filepath='./maskrcnn_weights.{epoch:02d}-{val_loss:.2f}.hdf5', verbose=0, save_best_only=False)\n",
    "        \n",
    "        model = keras_rcnn.models.MaskRCNN((224,224,3), ['nuclei'])\n",
    "        optimizer = keras.optimizers.Adam(0.0001)\n",
    "        model.compile(optimizer)\n",
    "        \n",
    "        model.fit_generator(\n",
    "                        epochs=100,\n",
    "                        generator=train_generator,\n",
    "                        steps_per_epoch=len(train_index),\n",
    "                        callbacks=[checkpointer],\n",
    "                        validation_data=val_generator,\n",
    "                        validation_steps=len(val_index),\n",
    "                        initial_epoch=epoch_count\n",
    "            )\n",
    "\n",
    "        epoch_count += 1"
   ]
  },
  {
   "cell_type": "code",
   "execution_count": null,
   "metadata": {
    "collapsed": false
   },
   "outputs": [],
   "source": [
    "from sklearn.model_selection import KFold\n",
    "\n",
    "epoch_count = 1\n",
    "for i in range(20):\n",
    "    training, testing = keras_rcnn.datasets.dsb2018.load_data()\n",
    "    training = numpy.array(training)\n",
    "    numpy.random.shuffle(training)\n",
    "\n",
    "    classes = {\"nuclei\": 1}\n",
    "\n",
    "    kf = KFold(n_splits=5)\n",
    "\n",
    "    for train_index, val_index in kf.split(training):\n",
    "        print(\"Start training on epoch {}\".format(epoch_count))\n",
    "        \n",
    "        train_data, val_data = training[train_index], training[val_index]\n",
    "\n",
    "        train_generator = keras_rcnn.preprocessing.ObjectDetectionGenerator(horizontal_flip=True, vertical_flip=True)\n",
    "        train_generator = train_generator.flow_from_dictionary(train_data, classes, target_size=(224, 224))\n",
    "\n",
    "        val_generator = keras_rcnn.preprocessing.ObjectDetectionGenerator()\n",
    "        val_generator = val_generator.flow_from_dictionary(val_data, classes, (224, 224))\n",
    "        \n",
    "        checkpointer = keras.callbacks.ModelCheckpoint(filepath='./weights.{epoch:02d}-{val_loss:.2f}.hdf5', verbose=0, save_best_only=False)\n",
    "        \n",
    "        image = keras.layers.Input((224, 224 , 3))\n",
    "        model = keras_rcnn.models.RPN(image, 2)\n",
    "        optimizer = keras.optimizers.Adam(0.0001)\n",
    "        model.compile(optimizer)\n",
    "        \n",
    "        model.fit_generator(\n",
    "                        epochs=1,\n",
    "                        generator=train_generator,\n",
    "                        steps_per_epoch=len(train_index),\n",
    "                        callbacks=[checkpointer],\n",
    "                        validation_data=val_generator,\n",
    "                        validation_steps=len(val_index),\n",
    "                        initial_epoch=0\n",
    "            )\n",
    "\n",
    "        epoch_count += 1\n"
   ]
  },
  {
   "cell_type": "code",
   "execution_count": null,
   "metadata": {
    "collapsed": false
   },
   "outputs": [],
   "source": []
  },
  {
   "cell_type": "code",
   "execution_count": null,
   "metadata": {
    "collapsed": true
   },
   "outputs": [],
   "source": []
  }
 ],
 "metadata": {
  "kernelspec": {
   "display_name": "Python 3",
   "language": "python",
   "name": "python3"
  },
  "language_info": {
   "codemirror_mode": {
    "name": "ipython",
    "version": 3
   },
   "file_extension": ".py",
   "mimetype": "text/x-python",
   "name": "python",
   "nbconvert_exporter": "python",
   "pygments_lexer": "ipython3",
   "version": "3.5.2"
  }
 },
 "nbformat": 4,
 "nbformat_minor": 0
}
